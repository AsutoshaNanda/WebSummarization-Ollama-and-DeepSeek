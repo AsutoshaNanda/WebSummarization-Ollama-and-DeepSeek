{
 "cells": [
  {
   "cell_type": "markdown",
   "id": "d72b53ed-6fe3-4559-9ede-cea60d63587c",
   "metadata": {},
   "source": [
    "# METHOD 1:"
   ]
  },
  {
   "cell_type": "code",
   "execution_count": 17,
   "id": "bfcd7d4f-330c-4eec-8cdc-b3a6e5bac99b",
   "metadata": {},
   "outputs": [],
   "source": [
    "import requests\n",
    "import os\n",
    "from bs4 import BeautifulSoup\n",
    "from urllib.request import urlopen\n",
    "from openai import OpenAI\n",
    "from dotenv import load_dotenv"
   ]
  },
  {
   "cell_type": "code",
   "execution_count": 18,
   "id": "ff7d84b0-cacd-4ce1-a282-b290f3f8245b",
   "metadata": {},
   "outputs": [],
   "source": [
    "OLLAMA_API = \"http://localhost:11434/api/chat\""
   ]
  },
  {
   "cell_type": "code",
   "execution_count": 19,
   "id": "f3dc9964-1916-41ed-ad22-1d0d0b9dd55d",
   "metadata": {},
   "outputs": [],
   "source": [
    "headers = {\"Content-Type\": \"application/json\"}"
   ]
  },
  {
   "cell_type": "code",
   "execution_count": 20,
   "id": "0de7ba8c-db39-4384-923b-e2ded7a40546",
   "metadata": {},
   "outputs": [],
   "source": [
    "messages =[\n",
    "    {'role':'user','content':'Describe what does Gen AI pros do for coding \\\n",
    "    like what is there expertise in given language used for Gen AI programs\\\n",
    "    and give some real life commercial uses of it.'}\n",
    "]"
   ]
  },
  {
   "cell_type": "code",
   "execution_count": 21,
   "id": "da8c302c-b516-43d0-aea7-387f69123338",
   "metadata": {},
   "outputs": [],
   "source": [
    "payload={\n",
    "    'messages' : messages,\n",
    "    'stream' : False,\n",
    "    'model' : \"llama3.2\"\n",
    "}"
   ]
  },
  {
   "cell_type": "code",
   "execution_count": 22,
   "id": "5a7f2739-64d4-4d3b-9f8f-fcec49d41864",
   "metadata": {},
   "outputs": [
    {
     "name": "stdout",
     "output_type": "stream",
     "text": [
      "200\n"
     ]
    }
   ],
   "source": [
    "response = requests.post(OLLAMA_API,json=payload,headers = headers)\n",
    "print(response.status_code)"
   ]
  },
  {
   "cell_type": "code",
   "execution_count": 23,
   "id": "b3cc8c03-d370-447e-b225-29a04ea045fd",
   "metadata": {},
   "outputs": [
    {
     "name": "stdout",
     "output_type": "stream",
     "text": [
      "{'model': 'llama3.2', 'created_at': '2025-08-25T03:57:37.231631Z', 'message': {'role': 'assistant', 'content': 'Generative AI (Gen AI) professionals, also known as Generative AI Engineers or Researchers, specialize in developing and training AI models that can generate new content, such as text, images, music, or videos, based on patterns and structures learned from large datasets.\\n\\n**Expertise:**\\n\\nTheir expertise lies in:\\n\\n1. **Programming languages**: Proficiency in programming languages like Python, JavaScript, C++, and R, which are commonly used for building and training Gen AI models.\\n2. **Deep learning frameworks**: Knowledge of popular deep learning frameworks such as TensorFlow, PyTorch, or Keras, which enable the development and training of complex neural networks.\\n3. **Natural Language Processing (NLP)**: Understanding of NLP techniques and tools, including text processing, sentiment analysis, and language generation.\\n4. **Computer Vision**: Familiarity with computer vision techniques and libraries, such as OpenCV or scikit-image, for image and video processing.\\n\\n**Real-life commercial uses:**\\n\\n1. **Image and video generation**: Gen AI can generate realistic images and videos for applications like:\\n\\t* Digital twins (e.g., generating 3D models of buildings or products)\\n\\t* Advertising and marketing (e.g., creating personalized product images)\\n\\t* Entertainment (e.g., generating special effects for movies or TV shows)\\n2. **Text generation**: Gen AI can generate human-like text for applications like:\\n\\t* Content creation (e.g., generating articles, social media posts, or chatbot responses)\\n\\t* Language translation\\n\\t* Customer service and support\\n3. **Music composition**: Gen AI can generate music tracks for applications like:\\n\\t* Music production companies (e.g., creating unique soundscapes for advertising or film scores)\\n\\t* Music streaming services (e.g., generating playlists or recommending music)\\n4. **Data augmentation**: Gen AI can generate new, synthetic data to augment existing datasets, which is useful for applications like:\\n\\t* Machine learning model training and testing\\n\\t* Data enrichment and analysis\\n\\nSome notable commercial uses of Gen AI include:\\n\\n1. **Amper Music**: An AI music composition platform that generates music tracks for advertising, film, and TV.\\n2. **Deep Dream Generator**: A web-based tool that uses Gen AI to generate surreal and dreamlike images from user-uploaded photos.\\n3. **Midjourney**: An AI-powered art generation platform that creates stunning images based on text prompts.\\n\\nThese are just a few examples of the many exciting applications of Gen AI in various industries. As the technology continues to evolve, we can expect to see even more innovative uses emerge!'}, 'done_reason': 'stop', 'done': True, 'total_duration': 7542110459, 'load_duration': 65332709, 'prompt_eval_count': 59, 'prompt_eval_duration': 121363500, 'eval_count': 530, 'eval_duration': 7355115959}\n"
     ]
    }
   ],
   "source": [
    "print(response.json())"
   ]
  },
  {
   "cell_type": "code",
   "execution_count": 24,
   "id": "02dbcdd7-358c-4780-ba9e-857e0f35f770",
   "metadata": {},
   "outputs": [
    {
     "name": "stdout",
     "output_type": "stream",
     "text": [
      "Generative AI (Gen AI) professionals, also known as Generative AI Engineers or Researchers, specialize in developing and training AI models that can generate new content, such as text, images, music, or videos, based on patterns and structures learned from large datasets.\n",
      "\n",
      "**Expertise:**\n",
      "\n",
      "Their expertise lies in:\n",
      "\n",
      "1. **Programming languages**: Proficiency in programming languages like Python, JavaScript, C++, and R, which are commonly used for building and training Gen AI models.\n",
      "2. **Deep learning frameworks**: Knowledge of popular deep learning frameworks such as TensorFlow, PyTorch, or Keras, which enable the development and training of complex neural networks.\n",
      "3. **Natural Language Processing (NLP)**: Understanding of NLP techniques and tools, including text processing, sentiment analysis, and language generation.\n",
      "4. **Computer Vision**: Familiarity with computer vision techniques and libraries, such as OpenCV or scikit-image, for image and video processing.\n",
      "\n",
      "**Real-life commercial uses:**\n",
      "\n",
      "1. **Image and video generation**: Gen AI can generate realistic images and videos for applications like:\n",
      "\t* Digital twins (e.g., generating 3D models of buildings or products)\n",
      "\t* Advertising and marketing (e.g., creating personalized product images)\n",
      "\t* Entertainment (e.g., generating special effects for movies or TV shows)\n",
      "2. **Text generation**: Gen AI can generate human-like text for applications like:\n",
      "\t* Content creation (e.g., generating articles, social media posts, or chatbot responses)\n",
      "\t* Language translation\n",
      "\t* Customer service and support\n",
      "3. **Music composition**: Gen AI can generate music tracks for applications like:\n",
      "\t* Music production companies (e.g., creating unique soundscapes for advertising or film scores)\n",
      "\t* Music streaming services (e.g., generating playlists or recommending music)\n",
      "4. **Data augmentation**: Gen AI can generate new, synthetic data to augment existing datasets, which is useful for applications like:\n",
      "\t* Machine learning model training and testing\n",
      "\t* Data enrichment and analysis\n",
      "\n",
      "Some notable commercial uses of Gen AI include:\n",
      "\n",
      "1. **Amper Music**: An AI music composition platform that generates music tracks for advertising, film, and TV.\n",
      "2. **Deep Dream Generator**: A web-based tool that uses Gen AI to generate surreal and dreamlike images from user-uploaded photos.\n",
      "3. **Midjourney**: An AI-powered art generation platform that creates stunning images based on text prompts.\n",
      "\n",
      "These are just a few examples of the many exciting applications of Gen AI in various industries. As the technology continues to evolve, we can expect to see even more innovative uses emerge!\n"
     ]
    }
   ],
   "source": [
    "print(response.json()['message']['content'])"
   ]
  },
  {
   "cell_type": "markdown",
   "id": "e2692197-d181-438d-84a1-d91205a14800",
   "metadata": {},
   "source": [
    "# METHOD 2 :"
   ]
  },
  {
   "cell_type": "code",
   "execution_count": 28,
   "id": "78c3b6ad-eb47-45a5-8631-3f57458e87f3",
   "metadata": {},
   "outputs": [
    {
     "name": "stdout",
     "output_type": "stream",
     "text": [
      "Genetic Algorithm (GA) pros are experts in optimizing solutions to complex problems using the principles of natural selection and genetics. In the context of coding, they apply their knowledge to develop algorithms that mimic the process of evolution to find optimal solutions.\n",
      "\n",
      "**Expertise:**\n",
      "\n",
      "Gen AI pros typically have expertise in:\n",
      "\n",
      "1. **Mathematical Optimization**: They understand techniques such as linear programming, quadratic programming, and other optimization methods.\n",
      "2. **Genetic Algorithms (GAs)**: They are familiar with GAs, including their application, implementation, and tuning.\n",
      "3. **Machine Learning**: They often have a basic understanding of machine learning concepts, such as supervised and unsupervised learning, neural networks, and deep learning.\n",
      "4. **Software Development**: They are proficient in programming languages, such as Python, Java, or C++, and have experience with software development frameworks.\n",
      "\n",
      "**Language expertise:**\n",
      "\n",
      "Gen AI pros often work with a variety of programming languages, including:\n",
      "\n",
      "1. **Python**: They may use libraries like NumPy, SciPy, and PyEvolve for GA implementation.\n",
      "2. **Java**: They might utilize Java-based GAs or use Java libraries like JGA or GeneticAlgorithm.\n",
      "3. **C++**: They may work with C++-based GAs or use C++ libraries like EvoLib or Genetic Programming.\n",
      "\n",
      "**Real-life commercial uses:**\n",
      "\n",
      "Gen AI pros have contributed to the development of numerous commercial applications, including:\n",
      "\n",
      "1. **Optimization in Logistics and Supply Chain Management**: GAs are used to optimize routes, schedules, and inventory levels in logistics companies.\n",
      "2. **Data Mining and Predictive Analytics**: Gen AI pros apply GAs to data mining tasks, such as clustering, dimensionality reduction, and feature selection.\n",
      "3. **Genetic Engineering and Biotechnology**: Genetic algorithms are used to design genetic circuits, predict protein structures, and identify optimal binding sites for therapeutic molecules.\n",
      "4. **Robotics and Autonomous Systems**: GAs are used in robotics to optimize control policies, trajectory planning, and motion planning.\n",
      "5. **Financial Portfolio Optimization**: Gen AI pros use GAs to optimize investment portfolios, manage risk, and identify potential opportunities.\n",
      "\n",
      "Some notable companies that have utilized Genetic Algorithms in their operations include:\n",
      "\n",
      "* Amazon (supply chain optimization)\n",
      "* Google (data mining and predictive analytics)\n",
      "* IBM (genetic engineering and biotechnology)\n",
      "* Boeing (robotics and autonomous systems)\n",
      "* JPMorgan Chase (financial portfolio optimization)\n",
      "\n",
      "Keep in mind that the specific applications and languages used can vary depending on the individual's expertise, industry, and company.\n"
     ]
    }
   ],
   "source": [
    "import ollama\n",
    "response = ollama.chat(model=\"llama3.2\",messages=messages)\n",
    "print(response.message.content)"
   ]
  },
  {
   "cell_type": "markdown",
   "id": "c9f9535c-e276-429b-9e41-19fa30cfbfc5",
   "metadata": {},
   "source": [
    "# Connect Ollama via OPENAI"
   ]
  },
  {
   "cell_type": "code",
   "execution_count": 34,
   "id": "e4cb5810-1863-4bb5-9d89-090dfe4f8eee",
   "metadata": {},
   "outputs": [
    {
     "name": "stdout",
     "output_type": "stream",
     "text": [
      "Generative Artificial Intelligence (Gen AI) professionals, also known as Generative Modelers or Generative Software Engineers, are experts in developing and deploying machine learning models that can generate new, high-quality content, such as text, images, music, and videos.\n",
      "\n",
      "Expertise in Language:\n",
      "\n",
      "Gen AI pros typically specialize in one of the following programming languages and frameworks, which enable them to develop and train these generative models:\n",
      "\n",
      "1. Python: Python is a popular choice for Gen AI due to its extensive libraries and frameworks, such as PyTorch, TensorFlow, and Keras.\n",
      "2. JavaScript: Node.js and WebAssembly are used for gen AI models that generate content for web applications.\n",
      "3. R or Julia: Some researchers prefer R or Julia for modeling complex, large-scale datasets.\n",
      "\n",
      "Expertise in Gen AI frameworks:\n",
      "\n",
      "Gen AI pros often focus on specific frameworks, such as:\n",
      "\n",
      "1. PyTorch: Known for its ease of use and scalability, PyTorch is widely used for object detection, image segmentation, and reinforcement learning.\n",
      "2. AlphaFold: AlphaFold is an industry-standard framework developed by Google DeepMind for protein structure prediction.\n",
      "3. DALL-E Mini: DALL-E Mini uses a combination of TensorFlow, PyTorch, or JAX libraries for its text-to-image synthesis.\n",
      "\n",
      "Real-life Commercial Uses:\n",
      "\n",
      "Gen AI professionals develop and deploy models to solve various problems in industries like:\n",
      "\n",
      "1. **Content Generation**: Text-to-video content generation platforms (e.g., Lumen5) use Gen AI to create short-form videos.\n",
      "2. **Image Synthesis**: Generative adversarial networks (GANs), trained on data from sources like OpenImages or the Fashion Image Collection, enable image synthesis and image manipulation software applications.\n",
      "3. **Audio Generation**: Music composition platforms like Amper Music or AIVA generate music for various applications.\n",
      "4. **Chatbots**: Converse.ai uses Gen AI to develop conversational interfaces for chatbots.\n",
      "\n",
      "High-profile commercial applications of Gen AI include:\n",
      "\n",
      "1. Generative AI-powered art tools, such as Deep Dream Generator and Artbreeder.\n",
      "2. AI-generated video content services for movies like \"Blade Runner 2049.\"\n",
      "3. AI-infused fashion design applications that create customized outfits or accessories using models trained on data from the runways of top designers.\n",
      "\n",
      "Gen AI pros continue to push boundaries in this field by developing more sophisticated algorithms, refining training methods, and expanding to new languages and domains.\n",
      "\n",
      "Job Roles:\n",
      "\n",
      "The roles include:\n",
      "1) Generative Modeler\n",
      "2) Machine Learning Engineer\n",
      "3) AI Research Scientist\n",
      "4. AI Developer/Software Engineer\n",
      "\n",
      "The job titles can give an idea of required skills.\n",
      "\n",
      "Note: The field is rapidly evolving, with new breakthroughs emerging daily. Therefore, the expertise in specific languages and frameworks might not remain static over time.\n"
     ]
    }
   ],
   "source": [
    "ollama_via_openai = OpenAI(base_url='http://localhost:11434/v1',api_key='ollama')\n",
    "response = ollama_via_openai.chat.completions.create(\n",
    "    model=\"llama3.2\",\n",
    "    messages = messages\n",
    ")\n",
    "print(response.choices[0].message.content)"
   ]
  },
  {
   "cell_type": "markdown",
   "id": "1ae0dbb9-586f-42a8-8aee-9d5723f195b2",
   "metadata": {},
   "source": [
    "# Connect Deep Seek Via OpenAI"
   ]
  },
  {
   "cell_type": "code",
   "execution_count": 40,
   "id": "58261c7d-5287-40f1-bd98-ff7ec628ced6",
   "metadata": {},
   "outputs": [
    {
     "name": "stdout",
     "output_type": "stream",
     "text": [
      "<think>\n",
      "Okay, so I need to understand what Gens AI does when it comes to coding, especially how the skills taught in Gen AI programs use specific languages. Also, I have to think about real-life commercial uses.\n",
      "\n",
      "Hmm, first, I should figure out what Gens AI means. From what I know, it's probably General-purpose Superintelligent Artificial Intelligence, which can perform tasks that even experts struggle with. But wait, isn't that a bit broad? Maybe Gens AI focuses on tasks like creative writing or content generation. Or perhaps it refers to systems that generate things beyond human capacity.\n",
      "\n",
      "Now, when they say \"profits from Gens AI in coding,\" I think they mean how Gens AI tools use programming languages, possibly AI frameworks or tools that make the process easier. So maybe in Gen AI programs, language skills are crucial because these tools are built on specific programming languages like Python, R, SQL, etc., which handle data analysis and machine learning.\n",
      "\n",
      "Wait, could it be about using existing libraries or tools that Gens AI systems employ? For example, they might use neural networks written in TensorFlow or PyTorch. So if someone's learning to code for Gens AI, they'd learn these languages like Python because those frameworks are standard in this space.\n",
      "\n",
      "Another angle: how Gens AI enhances other technologies beyond just coding skills. Maybe integrating with databases, performing data analysis in Python, or even something like natural language processing—though that might be a separate domain. But if it's part of the overall capability, perhaps they build models on existing languages to scale up complex tasks.\n",
      "\n",
      "For real-life uses, I'd look into how Gens AI can be applied beyond just writing code. Maybe content creation tools using Gens AI, where they generate images or essays with better quality than human-written content. Or in finance, modeling markets using AI models developed from scratch. In healthcare, simulations of disease spread could help predict and treat things better.\n",
      "\n",
      "Wait, I should make sure these real-life applications tie back to how their coding skills are useful. Like if you learn Python for Gens AI, you can code the AI models themselves, maybe even handle datasets with ease since Python is a powerful tool.\n",
      "\n",
      "But hold on, am I mixing up some concepts? Maybe Gens AI isn't all about coding tools but also about automation or creating intelligent systems rather than just executing tasks. But from what I remember, when someone says Gen AI in programming context, it's definitely tied to language and frameworks.\n",
      "\n",
      "I think I've covered the main points: Gens AI tools use specific databases, manage data efficiently with languages like SQL and Python/R, employ powerful libraries that require learning frameworks, and they have real-world applications beyond coding itself. Maybe I should consolidate all this information into a clear structure with examples for each point.\n",
      "</think>\n",
      "\n",
      "**Understanding Gens AI's Role in Coding and Real-Life Applications**\n",
      "\n",
      "**What Does Gens AI Do?**\n",
      "Gens AI stands for General-Purpose Superintelligent Artificial Intelligence, a term used to describe advanced AI systems capable of performing complex tasks beyond human capabilities. These systems leverage multiple techniques, including data analysis, machine learning, database management, and more.\n",
      "\n",
      "**Skills Utilized:**\n",
      "\n",
      "1. **Data Management and Databases:**\n",
      "   - **Languages:** SQL for database management.\n",
      "   - **Tools:** MySQL or PostgreSQL, commonly used in Gens AI projects to store and query data effectively.\n",
      "\n",
      "2. **Advanced Programming Languages:**\n",
      "   - **Languages:** Python, R, Java, JavaScript.\n",
      "   - These are the cornerstone languages due to their extensive libraries supporting machine learning, data analysis, and neural networks.\n",
      "   - Example: Use of TensorFlow or PyTorch for developing AI models leveraging these frameworks.\n",
      "\n",
      "3. **AI Frameworks:**\n",
      "   - **Frameworks:** TensorFlow, PyTorch, scikit-learn, NumPy.\n",
      "   - These are essential for executing Gens AI tasks, handling data, and automating processes from generation to prediction. Learning these languages and frameworks is crucial for proficient use.\n",
      "\n",
      "**Real-Life Commercial Uses:**\n",
      "\n",
      "1. **Content Creation:**\n",
      "   - **Applications:** Writing polished documents beyond human capacity (e.g., creative writing tools).\n",
      "   - **Integration with Gens AI:** Used for generating high-quality content, leveraging language models in text-based platforms to create vivid descriptions and narratives.\n",
      "\n",
      "2. **Data Analysis and Visualization:**\n",
      "   - **Applications:** Enhancing businesses' analytical capabilities.\n",
      "   - **Example:** Using R or Python's libraries (Matplotlib, Seaborn) for data visualization, offering insights that inform strategic decisions.\n",
      "\n",
      "3. **Financial Modeling:**\n",
      "   - **Applications:** Predictive analytics in finance.\n",
      "   - **Integration with Gens AI:** Employing machine learning models developed using frameworks like TensorFlow, enabling accurate financial forecasts and risk assessment.\n",
      "\n",
      "4. **Healthcare:**\n",
      "   - **Applications:** Simulation and prediction of disease trends.\n",
      "   - **Example:** AI models developed to simulate the spread of diseases, aiding in public health planning and response strategies.\n",
      "\n",
      "5. **Virtual Assistants and Autobiographies:**\n",
      "   - **Functions:** Providing more intelligent personal narratives.\n",
      "   - **Integration with Gens AI:** Using database systems for efficient data storage, enhancing the personal information retrieval and generation capabilities.\n",
      "\n",
      "6. **E-commerce and Web Design:**\n",
      "   - **Applications:** Personalization and interactive experiences.\n",
      "   - **Use of Gens AI:** Offering tailored product recommendations and dynamic content on websites, improving user engagement.\n",
      "\n",
      "7. **Optimization Problems:**\n",
      "   - **Applications:** Aiding in finding optimal solutions.\n",
      "   - **Integration with Gens AI:** Developing mathematical models using Python's libraries for problem-solving, providing efficient algorithms for optimization tasks.\n",
      "\n",
      "**Conclusion:**\n",
      "Gens AI significantly enhances the capabilities of technical individuals by leveraging advanced programming skills and data management techniques. Proficiency in these areas not only solidifies one's coding expertise but also prepares them to tackle complex problems across various sectors, from creative writing to predictive analytics.\n"
     ]
    }
   ],
   "source": [
    "deep_via_openai=OpenAI(base_url='http://localhost:11434/v1',api_key=\"ollama\")\n",
    "response=deep_via_openai.chat.completions.create(\n",
    "    model=\"deepseek-r1:1.5b\",\n",
    "    messages = messages\n",
    ")\n",
    "print(response.choices[0].message.content)"
   ]
  }
 ],
 "metadata": {
  "kernelspec": {
   "display_name": "Python 3 (ipykernel)",
   "language": "python",
   "name": "python3"
  },
  "language_info": {
   "codemirror_mode": {
    "name": "ipython",
    "version": 3
   },
   "file_extension": ".py",
   "mimetype": "text/x-python",
   "name": "python",
   "nbconvert_exporter": "python",
   "pygments_lexer": "ipython3",
   "version": "3.11.13"
  }
 },
 "nbformat": 4,
 "nbformat_minor": 5
}
